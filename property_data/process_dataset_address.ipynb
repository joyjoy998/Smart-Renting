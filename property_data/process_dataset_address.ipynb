{
 "cells": [
  {
   "cell_type": "code",
   "execution_count": 2,
   "id": "57812638-4046-4e3e-b363-c3ae7979ebe5",
   "metadata": {},
   "outputs": [],
   "source": [
    "import pandas as pd\n",
    "\n",
    "input_csv = \"nsw-property-sales-data-updated20250401.csv\"\n",
    "df = pd.read_csv(input_csv)"
   ]
  },
  {
   "cell_type": "code",
   "execution_count": 4,
   "id": "34b5afe5-2af3-4c28-bc67-a6a1fec4b98c",
   "metadata": {},
   "outputs": [
    {
     "data": {
      "text/plain": [
       "Property ID                          float64\n",
       "Sale counter                           int64\n",
       "Download date / time                  object\n",
       "Property name                         object\n",
       "Property unit number                  object\n",
       "Property house number                 object\n",
       "Property street name                  object\n",
       "Property locality                     object\n",
       "Property post code                   float64\n",
       "Area                                 float64\n",
       "Area type                             object\n",
       "Contract date                 datetime64[ns]\n",
       "Settlement date               datetime64[ns]\n",
       "Purchase price                         int64\n",
       "Zoning                                object\n",
       "Nature of property                    object\n",
       "Primary purpose                       object\n",
       "Strata lot number                    float64\n",
       "Dealing number                        object\n",
       "Property legal description            object\n",
       "dtype: object"
      ]
     },
     "execution_count": 4,
     "metadata": {},
     "output_type": "execute_result"
    }
   ],
   "source": [
    "#Change date fields to datetime type\n",
    "df['Contract date']= pd.to_datetime(df['Contract date'])\n",
    "df['Settlement date']= pd.to_datetime(df['Settlement date'])\n",
    "\n",
    "#check types are okay\n",
    "df.dtypes"
   ]
  },
  {
   "cell_type": "code",
   "execution_count": 6,
   "id": "81bb47a5-5e0b-45bf-a843-cec65d14835c",
   "metadata": {},
   "outputs": [
    {
     "name": "stdout",
     "output_type": "stream",
     "text": [
      "        Property ID  Sale counter Download date / time Property name  \\\n",
      "235494     640489.0            63       20250127 01:01           NaN   \n",
      "235992    1194243.0            17       20250127 01:01           NaN   \n",
      "236224    4571693.0            50       20250127 01:02           NaN   \n",
      "236324    1611446.0            34       20250127 01:02           NaN   \n",
      "236693    2016712.0            11       20250127 01:02           NaN   \n",
      "\n",
      "       Property unit number Property house number Property street name  \\\n",
      "235494                  NaN                    35           Edwards Rd   \n",
      "235992                  NaN                    48           Tobruk Ave   \n",
      "236224                  NaN                    35            Harris Rd   \n",
      "236324                  NaN                    65               Oak Rd   \n",
      "236693                  NaN                    28           Stewart St   \n",
      "\n",
      "       Property locality  Property post code    Area Area type Contract date  \\\n",
      "235494         Wahroonga              2076.0  1115.0         M    2025-01-14   \n",
      "235992       Port Kembla              2505.0   613.4         M    2025-01-13   \n",
      "236224         Five Dock              2046.0   209.6         M    2025-01-15   \n",
      "236324          Kirrawee              2232.0   743.2         M    2025-01-02   \n",
      "236693          Randwick              2031.0   426.0         M    2025-01-16   \n",
      "\n",
      "       Settlement date  Purchase price Zoning Nature of property  \\\n",
      "235494      2025-01-22         2460000     R2                  R   \n",
      "235992      2025-01-21          800000     R2                  R   \n",
      "236224      2025-01-17         2350000     R2                  R   \n",
      "236324      2025-01-17         1535000     R2                  R   \n",
      "236693      2025-01-17         4600000     R2                  R   \n",
      "\n",
      "       Primary purpose  Strata lot number Dealing number  \\\n",
      "235494       Residence                NaN       AU771245   \n",
      "235992       Residence                NaN       AU766816   \n",
      "236224       Residence                NaN       AU755736   \n",
      "236324       Residence                NaN       AU759827   \n",
      "236693       Residence                NaN       AU758486   \n",
      "\n",
      "       Property legal description  \n",
      "235494                   A/339959  \n",
      "235992                  24/205440  \n",
      "236224                 10/1308692  \n",
      "236324                  43/248089  \n",
      "236693           25/4521 2/974204  \n"
     ]
    }
   ],
   "source": [
    "# filter the dataset\n",
    "include_only_primary_purpose = ['Residence']\n",
    "include_only_zoning = ['R1', 'R2', 'R3', 'R4', 'R5']\n",
    "postcodes_sydney = [2000, 2006, 2007, 2008, 2009, 2010, 2011, 2015, 2016, 2017, 2018, 2019, 2020, 2021, 2022, 2023, 2024, 2025, 2026, 2027, 2028, 2029, 2030, 2031, 2032, 2033, 2034, 2035, 2036, 2037, 2038, 2039, 2040, 2041, 2042, 2043, 2044, 2045, 2046, 2047, 2048, 2049, 2050, 2052, 2060, 2061, 2062, 2063, 2064, 2065, 2066, 2067, 2068, 2069, 2070, 2071, 2072, 2073, 2074, 2075, 2076, 2077, 2079, 2080, 2081, 2082, 2083, 2084, 2085, 2086, 2087, 2088, 2089, 2090, 2092, 2093, 2094, 2095, 2096, 2097, 2099, 2100, 2101, 2102, 2103, 2104, 2105, 2106, 2107, 2108, 2109, 2110, 2111, 2112, 2113, 2114, 2115, 2116, 2117, 2118, 2119, 2120, 2121, 2122, 2123, 2125, 2126, 2127, 2128, 2129, 2130, 2131, 2132, 2133, 2134, 2135, 2136, 2137, 2138, 2139, 2140, 2141, 2142, 2143, 2144, 2145, 2146, 2147, 2148, 2150, 2151, 2152, 2153, 2154, 2155, 2156, 2157, 2158, 2159, 2160, 2161, 2162, 2163, 2164, 2165, 2166, 2167, 2168, 2170, 2171, 2172, 2173, 2174, 2175, 2176, 2177, 2178, 2179, 2190, 2191, 2192, 2193, 2194, 2195, 2196, 2197, 2198, 2199, 2200, 2203, 2204, 2205, 2206, 2207, 2208, 2209, 2210, 2211, 2212, 2213, 2214, 2216, 2217, 2218, 2219, 2220, 2221, 2222, 2223, 2224, 2225, 2226, 2227, 2228, 2229, 2230, 2231, 2232, 2233, 2234, 2555, 2556, 2557, 2558, 2559, 2560, 2563, 2564, 2565, 2566, 2567, 2568, 2569, 2570, 2571, 2572, 2573, 2574, 2745, 2747, 2748, 2749, 2750, 2752, 2753, 2754, 2755, 2756, 2757, 2758, 2759, 2760, 2761, 2762, 2763, 2765, 2766, 2767, 2768, 2769, 2770, 2773, 2774, 2775, 2776, 2777, 2778, 2779, 2780, 2782, 2783, 2784, 2785, 2786, 2787, 2790]\n",
    "postcodes_illawarra = [2500, 2502, 2505, 2506, 2508, 2515, 2516, 2517, 2518, 2519, 2522, 2525, 2526, 2527, 2528, 2529, 2530, 2533, 2534, 2535, 2560, 2577]\n",
    "start_date = '2025-01-01'\n",
    "end_date = '2025-04-01'\n",
    "\n",
    "df_myarea = df\n",
    "\n",
    "if include_only_primary_purpose: \n",
    "    df_myarea = df_myarea[ df_myarea['Primary purpose'].isin(include_only_primary_purpose) ]\n",
    "\n",
    "if include_only_zoning:\n",
    "    df_myarea = df_myarea[ df_myarea['Zoning'].isin(include_only_zoning) ]\n",
    "\n",
    "if (postcodes_sydney or postcodes_illawarra): \n",
    "    df_myarea = df_myarea[ \n",
    "        (df_myarea['Property post code'].isin(postcodes_sydney)) |  \n",
    "        (df_myarea['Property post code'].isin(postcodes_illawarra))\n",
    "    ]\n",
    "\n",
    "if start_date: \n",
    "    df_myarea = df_myarea[ df_myarea['Contract date'] >= start_date]\n",
    "    \n",
    "if end_date: \n",
    "    df_myarea = df_myarea[ df_myarea['Contract date'] <= end_date]\n",
    "    \n",
    "print(df_myarea.head())"
   ]
  },
  {
   "cell_type": "code",
   "execution_count": 8,
   "id": "513fdefa-2ae3-4178-a1f4-c405f8c97a2d",
   "metadata": {},
   "outputs": [],
   "source": [
    "# filter only needed columns\n",
    "df_myarea = df_myarea[['Property house number', 'Property street name', 'Property locality', 'Property post code']]\n",
    "df_myarea['Street'] = df_myarea['Property house number'].astype(str).str.strip() + ' ' + df_myarea['Property street name'].str.strip()\n",
    "df_myarea = df_myarea[['Street', 'Property locality', 'Property post code']]\n",
    "\n",
    "df_myarea = df_myarea.drop_duplicates()\n",
    "df_myarea = df_myarea.reset_index(drop=True)"
   ]
  },
  {
   "cell_type": "code",
   "execution_count": 14,
   "id": "812b3100-8a23-4901-8aa1-79927d1bfdb4",
   "metadata": {},
   "outputs": [
    {
     "data": {
      "text/plain": [
       "(1460, 3)"
      ]
     },
     "execution_count": 14,
     "metadata": {},
     "output_type": "execute_result"
    }
   ],
   "source": [
    "df_myarea.shape"
   ]
  },
  {
   "cell_type": "code",
   "execution_count": 14,
   "id": "7fdfea81-505b-4a65-9483-958227a89a51",
   "metadata": {},
   "outputs": [],
   "source": [
    "output_csv = \"filtered_property_addresses.csv\"\n",
    "df_myarea.to_csv(output_csv, index=False)"
   ]
  }
 ],
 "metadata": {
  "kernelspec": {
   "display_name": "Python [conda env:base] *",
   "language": "python",
   "name": "conda-base-py"
  },
  "language_info": {
   "codemirror_mode": {
    "name": "ipython",
    "version": 3
   },
   "file_extension": ".py",
   "mimetype": "text/x-python",
   "name": "python",
   "nbconvert_exporter": "python",
   "pygments_lexer": "ipython3",
   "version": "3.12.9"
  }
 },
 "nbformat": 4,
 "nbformat_minor": 5
}
